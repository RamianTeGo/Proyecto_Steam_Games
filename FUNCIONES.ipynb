{
 "cells": [
  {
   "cell_type": "code",
   "execution_count": 1,
   "metadata": {},
   "outputs": [],
   "source": [
    "import pandas as pd\n",
    "import ast"
   ]
  },
  {
   "cell_type": "code",
   "execution_count": 2,
   "metadata": {},
   "outputs": [],
   "source": [
    "# Se abre los archivos steam, df_items y reviuws\n",
    "steam = pd.read_csv('steam.csv')\n",
    "item = pd.read_csv('df_items.csv')\n",
    "reviu = pd.read_csv('reviuws.csv')"
   ]
  },
  {
   "cell_type": "code",
   "execution_count": 3,
   "metadata": {},
   "outputs": [
    {
     "name": "stdout",
     "output_type": "stream",
     "text": [
      "(28728, 6)\n",
      "(3210544, 4)\n",
      "(59305, 10)\n"
     ]
    }
   ],
   "source": [
    "# Chekeamos como estan compuestos los dataframe\n",
    "print(steam.shape)\n",
    "print(item.shape)\n",
    "print(reviu.shape)"
   ]
  },
  {
   "cell_type": "markdown",
   "metadata": {},
   "source": [
    "Observamos la informacion de los dataframes\n"
   ]
  },
  {
   "cell_type": "code",
   "execution_count": 4,
   "metadata": {},
   "outputs": [
    {
     "name": "stdout",
     "output_type": "stream",
     "text": [
      "<class 'pandas.core.frame.DataFrame'>\n",
      "RangeIndex: 28728 entries, 0 to 28727\n",
      "Data columns (total 6 columns):\n",
      " #   Column        Non-Null Count  Dtype \n",
      "---  ------        --------------  ----- \n",
      " 0   Unnamed: 0    28728 non-null  int64 \n",
      " 1   id            28728 non-null  int64 \n",
      " 2   genres        28728 non-null  object\n",
      " 3   app_name      28728 non-null  object\n",
      " 4   release_date  28728 non-null  object\n",
      " 5   year          28728 non-null  int64 \n",
      "dtypes: int64(3), object(3)\n",
      "memory usage: 1.3+ MB\n"
     ]
    }
   ],
   "source": [
    "steam.info()"
   ]
  },
  {
   "cell_type": "code",
   "execution_count": 5,
   "metadata": {},
   "outputs": [
    {
     "name": "stdout",
     "output_type": "stream",
     "text": [
      "<class 'pandas.core.frame.DataFrame'>\n",
      "RangeIndex: 3210544 entries, 0 to 3210543\n",
      "Data columns (total 4 columns):\n",
      " #   Column            Dtype \n",
      "---  ------            ----- \n",
      " 0   Unnamed: 0        int64 \n",
      " 1   item_id           int64 \n",
      " 2   playtime_forever  int64 \n",
      " 3   user_id           object\n",
      "dtypes: int64(3), object(1)\n",
      "memory usage: 98.0+ MB\n"
     ]
    }
   ],
   "source": [
    "item.info()"
   ]
  },
  {
   "cell_type": "code",
   "execution_count": 6,
   "metadata": {},
   "outputs": [
    {
     "name": "stdout",
     "output_type": "stream",
     "text": [
      "<class 'pandas.core.frame.DataFrame'>\n",
      "RangeIndex: 59305 entries, 0 to 59304\n",
      "Data columns (total 10 columns):\n",
      " #   Column             Non-Null Count  Dtype \n",
      "---  ------             --------------  ----- \n",
      " 0   Unnamed: 0         59305 non-null  int64 \n",
      " 1   funny              8151 non-null   object\n",
      " 2   last_edited        6140 non-null   object\n",
      " 3   item_id            59305 non-null  int64 \n",
      " 4   helpful            59305 non-null  object\n",
      " 5   recommend          59305 non-null  bool  \n",
      " 6   user_id            59305 non-null  object\n",
      " 7   user_url           59305 non-null  object\n",
      " 8   sentiment_analisy  59305 non-null  int64 \n",
      " 9   date               59305 non-null  object\n",
      "dtypes: bool(1), int64(3), object(6)\n",
      "memory usage: 4.1+ MB\n"
     ]
    }
   ],
   "source": [
    "reviu.info()"
   ]
  },
  {
   "cell_type": "markdown",
   "metadata": {},
   "source": [
    "Se crean dataframes con campos requeridos para el desarrollo da las consultas "
   ]
  },
  {
   "cell_type": "code",
   "execution_count": 7,
   "metadata": {},
   "outputs": [],
   "source": [
    "# Se crea un dataframe genero, con las campos 'id','genres','year'\n",
    "genero = steam[['id','genres','year']].copy()"
   ]
  },
  {
   "cell_type": "code",
   "execution_count": 8,
   "metadata": {},
   "outputs": [],
   "source": [
    "# Se crea un dataframe play con los campos, 'item_id','user_id','playtime_forever'\n",
    "play = item[['item_id','user_id','playtime_forever']].copy()"
   ]
  },
  {
   "cell_type": "code",
   "execution_count": 9,
   "metadata": {},
   "outputs": [],
   "source": [
    "# Se realiza la union de los dataframe anteriores para crear 'generos', el cual se utiliza para una consulta\n",
    "generos = pd.merge(genero, play, left_on='id', right_on='item_id')\n"
   ]
  },
  {
   "cell_type": "code",
   "execution_count": 10,
   "metadata": {},
   "outputs": [],
   "source": [
    "# Del campo genres utilizando ast.literal_eval para las listas de generos\n",
    "generos['genres'] = generos['genres'].apply(lambda x: ast.literal_eval(x) if isinstance(x, str) else x)\n",
    "\n"
   ]
  },
  {
   "cell_type": "code",
   "execution_count": 11,
   "metadata": {},
   "outputs": [],
   "source": [
    "# Se crea cada genero como un nuevo registro\n",
    "generos = generos.explode('genres')"
   ]
  },
  {
   "cell_type": "code",
   "execution_count": 12,
   "metadata": {},
   "outputs": [
    {
     "data": {
      "text/html": [
       "<div>\n",
       "<style scoped>\n",
       "    .dataframe tbody tr th:only-of-type {\n",
       "        vertical-align: middle;\n",
       "    }\n",
       "\n",
       "    .dataframe tbody tr th {\n",
       "        vertical-align: top;\n",
       "    }\n",
       "\n",
       "    .dataframe thead th {\n",
       "        text-align: right;\n",
       "    }\n",
       "</style>\n",
       "<table border=\"1\" class=\"dataframe\">\n",
       "  <thead>\n",
       "    <tr style=\"text-align: right;\">\n",
       "      <th></th>\n",
       "      <th>id</th>\n",
       "      <th>genres</th>\n",
       "      <th>year</th>\n",
       "      <th>item_id</th>\n",
       "      <th>user_id</th>\n",
       "      <th>playtime_forever</th>\n",
       "    </tr>\n",
       "  </thead>\n",
       "  <tbody>\n",
       "    <tr>\n",
       "      <th>0</th>\n",
       "      <td>282010</td>\n",
       "      <td>Action</td>\n",
       "      <td>1997</td>\n",
       "      <td>282010</td>\n",
       "      <td>r3ap3r78</td>\n",
       "      <td>0</td>\n",
       "    </tr>\n",
       "    <tr>\n",
       "      <th>0</th>\n",
       "      <td>282010</td>\n",
       "      <td>Indie</td>\n",
       "      <td>1997</td>\n",
       "      <td>282010</td>\n",
       "      <td>r3ap3r78</td>\n",
       "      <td>0</td>\n",
       "    </tr>\n",
       "    <tr>\n",
       "      <th>0</th>\n",
       "      <td>282010</td>\n",
       "      <td>Racing</td>\n",
       "      <td>1997</td>\n",
       "      <td>282010</td>\n",
       "      <td>r3ap3r78</td>\n",
       "      <td>0</td>\n",
       "    </tr>\n",
       "    <tr>\n",
       "      <th>1</th>\n",
       "      <td>282010</td>\n",
       "      <td>Action</td>\n",
       "      <td>1997</td>\n",
       "      <td>282010</td>\n",
       "      <td>Telayne</td>\n",
       "      <td>47</td>\n",
       "    </tr>\n",
       "    <tr>\n",
       "      <th>1</th>\n",
       "      <td>282010</td>\n",
       "      <td>Indie</td>\n",
       "      <td>1997</td>\n",
       "      <td>282010</td>\n",
       "      <td>Telayne</td>\n",
       "      <td>47</td>\n",
       "    </tr>\n",
       "  </tbody>\n",
       "</table>\n",
       "</div>"
      ],
      "text/plain": [
       "       id  genres  year  item_id   user_id  playtime_forever\n",
       "0  282010  Action  1997   282010  r3ap3r78                 0\n",
       "0  282010   Indie  1997   282010  r3ap3r78                 0\n",
       "0  282010  Racing  1997   282010  r3ap3r78                 0\n",
       "1  282010  Action  1997   282010   Telayne                47\n",
       "1  282010   Indie  1997   282010   Telayne                47"
      ]
     },
     "execution_count": 12,
     "metadata": {},
     "output_type": "execute_result"
    }
   ],
   "source": [
    "generos.head()"
   ]
  },
  {
   "cell_type": "code",
   "execution_count": 64,
   "metadata": {},
   "outputs": [],
   "source": [
    "# Exportamos el archivo csv\n",
    "generos.to_csv('generos.csv')"
   ]
  },
  {
   "cell_type": "code",
   "execution_count": 13,
   "metadata": {},
   "outputs": [],
   "source": [
    "generos1 = generos[['user_id','genres','year','playtime_forever']].copy()"
   ]
  },
  {
   "cell_type": "code",
   "execution_count": 14,
   "metadata": {},
   "outputs": [],
   "source": [
    "# Se toma la decision de trabajar con el 40% de los datos, para disminuir su tamaño de memoria \n",
    "# en aras de realizar el ejercicio practico y permite subir el archivo\n",
    "sample_size = int(0.40 * len(generos1)) \n",
    "generos1 = generos1.sample(n=sample_size, random_state=42) "
   ]
  },
  {
   "cell_type": "code",
   "execution_count": 70,
   "metadata": {},
   "outputs": [],
   "source": [
    "generos1.to_csv('generos1.csv')"
   ]
  },
  {
   "cell_type": "code",
   "execution_count": 15,
   "metadata": {},
   "outputs": [],
   "source": [
    "\n",
    "# Se crea la funcion\n",
    "def PlayTimeGenre( genero : str ):\n",
    "\n",
    "    '''Debe devolver año con mas horas jugadas para dicho género.'''\n",
    "    \n",
    "    genero_df = generos1[generos1['genres'].str.contains(genero, case=False)]\n",
    "    \n",
    "    anio_con_max_horas = genero_df.groupby('year')['playtime_forever'].sum().idxmax()\n",
    "    \n",
    "    return {f'Año con mas horas jugadas del genero {genero}':anio_con_max_horas}\n",
    "\n"
   ]
  },
  {
   "cell_type": "code",
   "execution_count": 16,
   "metadata": {},
   "outputs": [
    {
     "data": {
      "text/plain": [
       "{'Año con mas horas jugadas del genero Action': 2012}"
      ]
     },
     "execution_count": 16,
     "metadata": {},
     "output_type": "execute_result"
    }
   ],
   "source": [
    "# Se prueba la funcion \n",
    "PlayTimeGenre('Action')"
   ]
  },
  {
   "cell_type": "code",
   "execution_count": 17,
   "metadata": {},
   "outputs": [],
   "source": [
    "# Se crea la funcion\n",
    "def UserForGenre( genero : str ):\n",
    "    ''' Debe devolver el usuario que acumula más horas jugadas para el género \n",
    "    dado y una lista de la acumulación de horas jugadas por año.'''\n",
    "    \n",
    "    genero_df = generos1[generos1['genres'].str.contains(genero, case=False)]\n",
    "    \n",
    "    usuario_mas_horas = genero_df.groupby('user_id')['playtime_forever'].sum().idxmax()\n",
    "    \n",
    "    usuario_genero_df = genero_df[genero_df['user_id'] == usuario_mas_horas]\n",
    "    \n",
    "    acumulacion_horas_por_anio = usuario_genero_df.groupby('year')['playtime_forever'].sum().reset_index()\n",
    "\n",
    "    lista_acumulacion_horas = [{'año': año, 'horas': horas} for año, horas in zip(acumulacion_horas_por_anio['year'], acumulacion_horas_por_anio['playtime_forever'])]\n",
    "\n",
    "    \n",
    "    return {f'Usuario con mas horas jugadas para el genero {genero}': usuario_mas_horas, 'Horas jugadas': lista_acumulacion_horas}\n",
    "\n"
   ]
  },
  {
   "cell_type": "code",
   "execution_count": 18,
   "metadata": {},
   "outputs": [
    {
     "data": {
      "text/plain": [
       "{'Usuario con mas horas jugadas para el genero Action': 'stopgovtcorruption',\n",
       " 'Horas jugadas': [{'año': 2006, 'horas': 234508},\n",
       "  {'año': 2007, 'horas': 0},\n",
       "  {'año': 2008, 'horas': 0},\n",
       "  {'año': 2009, 'horas': 342805},\n",
       "  {'año': 2010, 'horas': 0},\n",
       "  {'año': 2011, 'horas': 1708},\n",
       "  {'año': 2013, 'horas': 1177},\n",
       "  {'año': 2014, 'horas': 27440},\n",
       "  {'año': 2015, 'horas': 3671}]}"
      ]
     },
     "execution_count": 18,
     "metadata": {},
     "output_type": "execute_result"
    }
   ],
   "source": [
    "# Se prueba la funcion \n",
    "UserForGenre('Action')"
   ]
  },
  {
   "cell_type": "code",
   "execution_count": 19,
   "metadata": {},
   "outputs": [
    {
     "data": {
      "text/html": [
       "<div>\n",
       "<style scoped>\n",
       "    .dataframe tbody tr th:only-of-type {\n",
       "        vertical-align: middle;\n",
       "    }\n",
       "\n",
       "    .dataframe tbody tr th {\n",
       "        vertical-align: top;\n",
       "    }\n",
       "\n",
       "    .dataframe thead th {\n",
       "        text-align: right;\n",
       "    }\n",
       "</style>\n",
       "<table border=\"1\" class=\"dataframe\">\n",
       "  <thead>\n",
       "    <tr style=\"text-align: right;\">\n",
       "      <th></th>\n",
       "      <th>item_id</th>\n",
       "      <th>app_name</th>\n",
       "      <th>year</th>\n",
       "    </tr>\n",
       "  </thead>\n",
       "  <tbody>\n",
       "    <tr>\n",
       "      <th>0</th>\n",
       "      <td>761140</td>\n",
       "      <td>Lost Summoner Kitty</td>\n",
       "      <td>2018</td>\n",
       "    </tr>\n",
       "    <tr>\n",
       "      <th>1</th>\n",
       "      <td>643980</td>\n",
       "      <td>Ironbound</td>\n",
       "      <td>2018</td>\n",
       "    </tr>\n",
       "    <tr>\n",
       "      <th>2</th>\n",
       "      <td>670290</td>\n",
       "      <td>Real Pool 3D - Poolians</td>\n",
       "      <td>2017</td>\n",
       "    </tr>\n",
       "    <tr>\n",
       "      <th>3</th>\n",
       "      <td>767400</td>\n",
       "      <td>弹炸人2222</td>\n",
       "      <td>2017</td>\n",
       "    </tr>\n",
       "    <tr>\n",
       "      <th>4</th>\n",
       "      <td>772540</td>\n",
       "      <td>Battle Royale Trainer</td>\n",
       "      <td>2018</td>\n",
       "    </tr>\n",
       "  </tbody>\n",
       "</table>\n",
       "</div>"
      ],
      "text/plain": [
       "   item_id                 app_name  year\n",
       "0   761140      Lost Summoner Kitty  2018\n",
       "1   643980                Ironbound  2018\n",
       "2   670290  Real Pool 3D - Poolians  2017\n",
       "3   767400                  弹炸人2222  2017\n",
       "4   772540    Battle Royale Trainer  2018"
      ]
     },
     "execution_count": 19,
     "metadata": {},
     "output_type": "execute_result"
    }
   ],
   "source": [
    "# Se Crea un datagrames año_game, compuesto con los campos 'id', 'app_name','year'\n",
    "# Se renombra la columna 'id' a item_id\n",
    "# y se eliminan los duplicados\n",
    "\n",
    "año_game = steam[['id','app_name', 'year']].copy()\n",
    "año_game = año_game.rename(columns={'id':'item_id'})\n",
    "año_game = año_game.drop_duplicates()\n",
    "año_game.head()"
   ]
  },
  {
   "cell_type": "code",
   "execution_count": 20,
   "metadata": {},
   "outputs": [
    {
     "data": {
      "text/html": [
       "<div>\n",
       "<style scoped>\n",
       "    .dataframe tbody tr th:only-of-type {\n",
       "        vertical-align: middle;\n",
       "    }\n",
       "\n",
       "    .dataframe tbody tr th {\n",
       "        vertical-align: top;\n",
       "    }\n",
       "\n",
       "    .dataframe thead th {\n",
       "        text-align: right;\n",
       "    }\n",
       "</style>\n",
       "<table border=\"1\" class=\"dataframe\">\n",
       "  <thead>\n",
       "    <tr style=\"text-align: right;\">\n",
       "      <th></th>\n",
       "      <th>item_id</th>\n",
       "      <th>recommend</th>\n",
       "      <th>sentiment_analisy</th>\n",
       "    </tr>\n",
       "  </thead>\n",
       "  <tbody>\n",
       "    <tr>\n",
       "      <th>0</th>\n",
       "      <td>1250</td>\n",
       "      <td>True</td>\n",
       "      <td>2</td>\n",
       "    </tr>\n",
       "    <tr>\n",
       "      <th>1</th>\n",
       "      <td>22200</td>\n",
       "      <td>True</td>\n",
       "      <td>2</td>\n",
       "    </tr>\n",
       "    <tr>\n",
       "      <th>2</th>\n",
       "      <td>43110</td>\n",
       "      <td>True</td>\n",
       "      <td>2</td>\n",
       "    </tr>\n",
       "    <tr>\n",
       "      <th>3</th>\n",
       "      <td>251610</td>\n",
       "      <td>True</td>\n",
       "      <td>2</td>\n",
       "    </tr>\n",
       "    <tr>\n",
       "      <th>4</th>\n",
       "      <td>227300</td>\n",
       "      <td>True</td>\n",
       "      <td>0</td>\n",
       "    </tr>\n",
       "  </tbody>\n",
       "</table>\n",
       "</div>"
      ],
      "text/plain": [
       "   item_id  recommend  sentiment_analisy\n",
       "0     1250       True                  2\n",
       "1    22200       True                  2\n",
       "2    43110       True                  2\n",
       "3   251610       True                  2\n",
       "4   227300       True                  0"
      ]
     },
     "execution_count": 20,
     "metadata": {},
     "output_type": "execute_result"
    }
   ],
   "source": [
    "# Se crea el dataframe recomendado, con los campos 'item_id','recommend','sentiment_analisy'\n",
    "recomendado = reviu[['item_id','recommend','sentiment_analisy']].copy()\n",
    "recomendado.head()"
   ]
  },
  {
   "cell_type": "code",
   "execution_count": 21,
   "metadata": {},
   "outputs": [
    {
     "name": "stdout",
     "output_type": "stream",
     "text": [
      "<class 'pandas.core.frame.DataFrame'>\n",
      "RangeIndex: 50387 entries, 0 to 50386\n",
      "Data columns (total 5 columns):\n",
      " #   Column             Non-Null Count  Dtype \n",
      "---  ------             --------------  ----- \n",
      " 0   item_id            50387 non-null  int64 \n",
      " 1   recommend          50387 non-null  bool  \n",
      " 2   sentiment_analisy  50387 non-null  int64 \n",
      " 3   app_name           50387 non-null  object\n",
      " 4   year               50387 non-null  int64 \n",
      "dtypes: bool(1), int64(3), object(1)\n",
      "memory usage: 1.6+ MB\n"
     ]
    }
   ],
   "source": [
    "# Se une el Dataframe año_game a recomendado para el desarrollo de las sgtes funcion\n",
    "recomendado = recomendado.merge(año_game, on='item_id')\n",
    "recomendado.info()"
   ]
  },
  {
   "cell_type": "code",
   "execution_count": 23,
   "metadata": {},
   "outputs": [],
   "source": [
    "recomendado.to_csv('recomendado.csv')"
   ]
  },
  {
   "cell_type": "code",
   "execution_count": 22,
   "metadata": {},
   "outputs": [],
   "source": [
    "\n",
    "def UsersRecommend(año:int):\n",
    "    '''Devuelve el top 3 de juegos MÁS recomendados por usuarios para el año \n",
    "    dado. (reviews.recommend = True y comentarios positivos/neutrales) '''\n",
    "\n",
    "    filtered_df = recomendado[(recomendado['year'] == año) & (recomendado['recommend'] == True) & (recomendado['sentiment_analisy'] >= 1)]\n",
    "    \n",
    "    # Agrupar y contar los juegos recomendados\n",
    "    game_counts = filtered_df['app_name'].value_counts().reset_index()\n",
    "    game_counts.columns = ['app_name', 'count']\n",
    "    \n",
    "    # Ordenar por la cantidad de recomendaciones en orden descendente\n",
    "    sorted_games = game_counts.sort_values(by='count', ascending=False)\n",
    "    \n",
    "    # Tomar los 3 juegos principales\n",
    "    top_3_games = sorted_games.head(3)\n",
    "    \n",
    "    # Crear la lista de diccionarios en el formato deseado\n",
    "    result = [{\"Puesto {}: {}\".format(i+1, game['app_name'])} for i, game in top_3_games.iterrows()]\n",
    "    \n",
    "    return result\n"
   ]
  },
  {
   "cell_type": "code",
   "execution_count": 23,
   "metadata": {},
   "outputs": [
    {
     "data": {
      "text/plain": [
       "[{'Puesto 1: Loadout'}, {'Puesto 2: Goat Simulator'}, {'Puesto 3: Insurgency'}]"
      ]
     },
     "execution_count": 23,
     "metadata": {},
     "output_type": "execute_result"
    }
   ],
   "source": [
    "UsersRecommend(2014)"
   ]
  },
  {
   "cell_type": "code",
   "execution_count": 24,
   "metadata": {},
   "outputs": [],
   "source": [
    "\n",
    "\n",
    "def UsersNotRecommend(año:int):\n",
    "\n",
    "    ''' Devuelve el top 3 de juegos MENOS recomendados por usuarios para el año dado. \n",
    "    (reviews.recommend = False y comentarios negativos)'''\n",
    "\n",
    "\n",
    "    filtered_df = recomendado[(recomendado['year'] == año) & (recomendado['recommend'] == False) & (recomendado['sentiment_analisy'] == 0)]\n",
    "    \n",
    "    # Agrupar y contar los juegos menos recomendados\n",
    "    game_counts = filtered_df['app_name'].value_counts().reset_index()\n",
    "    game_counts.columns = ['app_name', 'count']\n",
    "    \n",
    "    # Ordenar por la cantidad de juegos menos recomendados en orden descendente\n",
    "    sorted_games = game_counts.sort_values(by='count', ascending=False)\n",
    "    \n",
    "    # Tomar los 3 juegos principales\n",
    "    top_3_least_recommended = sorted_games.head(3)\n",
    "    \n",
    "    # Crear la lista de diccionarios en el formato deseado\n",
    "    result = [{\"Puesto {}: {}\".format(i+1, game['app_name'])} for i, game in top_3_least_recommended.iterrows()]\n",
    "    \n",
    "    return result\n"
   ]
  },
  {
   "cell_type": "code",
   "execution_count": 25,
   "metadata": {},
   "outputs": [
    {
     "data": {
      "text/plain": [
       "[{'Puesto 1: Loadout'},\n",
       " {'Puesto 2: Call of Duty®: Ghosts'},\n",
       " {'Puesto 3: theHunter Classic'}]"
      ]
     },
     "execution_count": 25,
     "metadata": {},
     "output_type": "execute_result"
    }
   ],
   "source": [
    "UsersNotRecommend(2014)"
   ]
  },
  {
   "cell_type": "code",
   "execution_count": 26,
   "metadata": {},
   "outputs": [
    {
     "data": {
      "text/html": [
       "<div>\n",
       "<style scoped>\n",
       "    .dataframe tbody tr th:only-of-type {\n",
       "        vertical-align: middle;\n",
       "    }\n",
       "\n",
       "    .dataframe tbody tr th {\n",
       "        vertical-align: top;\n",
       "    }\n",
       "\n",
       "    .dataframe thead th {\n",
       "        text-align: right;\n",
       "    }\n",
       "</style>\n",
       "<table border=\"1\" class=\"dataframe\">\n",
       "  <thead>\n",
       "    <tr style=\"text-align: right;\">\n",
       "      <th></th>\n",
       "      <th>item_id</th>\n",
       "      <th>sentiment_analisy</th>\n",
       "    </tr>\n",
       "  </thead>\n",
       "  <tbody>\n",
       "    <tr>\n",
       "      <th>0</th>\n",
       "      <td>1250</td>\n",
       "      <td>2</td>\n",
       "    </tr>\n",
       "    <tr>\n",
       "      <th>1</th>\n",
       "      <td>22200</td>\n",
       "      <td>2</td>\n",
       "    </tr>\n",
       "    <tr>\n",
       "      <th>2</th>\n",
       "      <td>43110</td>\n",
       "      <td>2</td>\n",
       "    </tr>\n",
       "    <tr>\n",
       "      <th>3</th>\n",
       "      <td>251610</td>\n",
       "      <td>2</td>\n",
       "    </tr>\n",
       "    <tr>\n",
       "      <th>4</th>\n",
       "      <td>227300</td>\n",
       "      <td>0</td>\n",
       "    </tr>\n",
       "  </tbody>\n",
       "</table>\n",
       "</div>"
      ],
      "text/plain": [
       "   item_id  sentiment_analisy\n",
       "0     1250                  2\n",
       "1    22200                  2\n",
       "2    43110                  2\n",
       "3   251610                  2\n",
       "4   227300                  0"
      ]
     },
     "execution_count": 26,
     "metadata": {},
     "output_type": "execute_result"
    }
   ],
   "source": [
    "# Se crea el datagrame sentimiento, con los campos ['item_id','sentiment_analisy'\n",
    "sentimento = reviu[['item_id','sentiment_analisy']].copy()\n",
    "sentimento = sentimento.drop_duplicates()\n",
    "sentimento.head()"
   ]
  },
  {
   "cell_type": "code",
   "execution_count": 27,
   "metadata": {},
   "outputs": [
    {
     "name": "stdout",
     "output_type": "stream",
     "text": [
      "<class 'pandas.core.frame.DataFrame'>\n",
      "RangeIndex: 5465 entries, 0 to 5464\n",
      "Data columns (total 4 columns):\n",
      " #   Column             Non-Null Count  Dtype \n",
      "---  ------             --------------  ----- \n",
      " 0   item_id            5465 non-null   int64 \n",
      " 1   sentiment_analisy  5465 non-null   int64 \n",
      " 2   app_name           5465 non-null   object\n",
      " 3   year               5465 non-null   int64 \n",
      "dtypes: int64(3), object(1)\n",
      "memory usage: 170.9+ KB\n"
     ]
    }
   ],
   "source": [
    "# Se une el Dataframe año_game a df_reviu\n",
    "sentimento = sentimento.merge(año_game, on='item_id')\n",
    "sentimento.info()"
   ]
  },
  {
   "cell_type": "code",
   "execution_count": 43,
   "metadata": {},
   "outputs": [],
   "source": [
    "# Se guarda a archivo csv\n",
    "sentimento.to_csv('sentiment.csv')"
   ]
  },
  {
   "cell_type": "code",
   "execution_count": 28,
   "metadata": {},
   "outputs": [],
   "source": [
    "#Se crea la funcion\n",
    "def sentiment_analysis(año:int):\n",
    "    ''' Según el año de lanzamiento, se devuelve una lista con la cantidad \n",
    "# de registros de reseñas de usuarios que se encuentren categorizados con un análisis de sentimiento.'''\n",
    "\n",
    "    año_reviu = sentimento[sentimento['year'] == año]\n",
    "    \n",
    "    conteo_sentiment = {'Negative': 0, 'Neutral': 0, 'Positive': 0}\n",
    "    \n",
    "    for index, row in año_reviu.iterrows():\n",
    "        sentiment = row['sentiment_analisy']\n",
    "        categoria = ''\n",
    "        \n",
    "        if sentiment == 0:\n",
    "            categoria = 'Negative'\n",
    "        elif sentiment == 1:\n",
    "            categoria = 'Neutral'\n",
    "        elif sentiment == 2:\n",
    "            categoria = 'Positive'\n",
    "        \n",
    "        # Incrementar el contador correspondiente en el diccionario\n",
    "        conteo_sentiment[categoria] += 1\n",
    "    \n",
    "    return conteo_sentiment"
   ]
  },
  {
   "cell_type": "code",
   "execution_count": 29,
   "metadata": {},
   "outputs": [
    {
     "data": {
      "text/plain": [
       "{'Negative': 331, 'Neutral': 259, 'Positive': 468}"
      ]
     },
     "execution_count": 29,
     "metadata": {},
     "output_type": "execute_result"
    }
   ],
   "source": [
    "# Se prueba la funcion\n",
    "sentiment_analysis(2014)"
   ]
  }
 ],
 "metadata": {
  "kernelspec": {
   "display_name": "Python 3",
   "language": "python",
   "name": "python3"
  },
  "language_info": {
   "codemirror_mode": {
    "name": "ipython",
    "version": 3
   },
   "file_extension": ".py",
   "mimetype": "text/x-python",
   "name": "python",
   "nbconvert_exporter": "python",
   "pygments_lexer": "ipython3",
   "version": "3.10.11"
  },
  "orig_nbformat": 4
 },
 "nbformat": 4,
 "nbformat_minor": 2
}
