{
 "cells": [
  {
   "cell_type": "code",
   "execution_count": 2,
   "metadata": {},
   "outputs": [],
   "source": [
    "import pandas as pd\n",
    "import ast\n",
    "from sklearn.feature_extraction.text import TfidfVectorizer\n",
    "from sklearn.metrics.pairwise import cosine_similarity\n",
    "from sklearn.metrics.pairwise import linear_kernel\n",
    "\n"
   ]
  },
  {
   "cell_type": "code",
   "execution_count": 3,
   "metadata": {},
   "outputs": [],
   "source": [
    "steam = pd.read_csv('steam.csv')\n"
   ]
  },
  {
   "cell_type": "code",
   "execution_count": 3,
   "metadata": {},
   "outputs": [
    {
     "name": "stdout",
     "output_type": "stream",
     "text": [
      "<class 'pandas.core.frame.DataFrame'>\n",
      "RangeIndex: 28728 entries, 0 to 28727\n",
      "Data columns (total 6 columns):\n",
      " #   Column        Non-Null Count  Dtype \n",
      "---  ------        --------------  ----- \n",
      " 0   Unnamed: 0    28728 non-null  int64 \n",
      " 1   id            28728 non-null  int64 \n",
      " 2   genres        28728 non-null  object\n",
      " 3   app_name      28728 non-null  object\n",
      " 4   release_date  28728 non-null  object\n",
      " 5   year          28728 non-null  int64 \n",
      "dtypes: int64(3), object(3)\n",
      "memory usage: 1.3+ MB\n"
     ]
    }
   ],
   "source": [
    "# Observamos los datos\n",
    "steam.info()"
   ]
  },
  {
   "cell_type": "code",
   "execution_count": 4,
   "metadata": {},
   "outputs": [],
   "source": [
    "games = steam[['id','app_name','genres']].copy()"
   ]
  },
  {
   "cell_type": "code",
   "execution_count": 58,
   "metadata": {},
   "outputs": [
    {
     "data": {
      "text/html": [
       "<div>\n",
       "<style scoped>\n",
       "    .dataframe tbody tr th:only-of-type {\n",
       "        vertical-align: middle;\n",
       "    }\n",
       "\n",
       "    .dataframe tbody tr th {\n",
       "        vertical-align: top;\n",
       "    }\n",
       "\n",
       "    .dataframe thead th {\n",
       "        text-align: right;\n",
       "    }\n",
       "</style>\n",
       "<table border=\"1\" class=\"dataframe\">\n",
       "  <thead>\n",
       "    <tr style=\"text-align: right;\">\n",
       "      <th></th>\n",
       "      <th>id</th>\n",
       "      <th>app_name</th>\n",
       "      <th>genres</th>\n",
       "    </tr>\n",
       "  </thead>\n",
       "  <tbody>\n",
       "    <tr>\n",
       "      <th>0</th>\n",
       "      <td>761140</td>\n",
       "      <td>Lost Summoner Kitty</td>\n",
       "      <td>['Action', 'Casual', 'Indie', 'Simulation', 'S...</td>\n",
       "    </tr>\n",
       "    <tr>\n",
       "      <th>1</th>\n",
       "      <td>643980</td>\n",
       "      <td>Ironbound</td>\n",
       "      <td>['Free to Play', 'Indie', 'RPG', 'Strategy']</td>\n",
       "    </tr>\n",
       "    <tr>\n",
       "      <th>2</th>\n",
       "      <td>670290</td>\n",
       "      <td>Real Pool 3D - Poolians</td>\n",
       "      <td>['Casual', 'Free to Play', 'Indie', 'Simulatio...</td>\n",
       "    </tr>\n",
       "    <tr>\n",
       "      <th>3</th>\n",
       "      <td>767400</td>\n",
       "      <td>弹炸人2222</td>\n",
       "      <td>['Action', 'Adventure', 'Casual']</td>\n",
       "    </tr>\n",
       "    <tr>\n",
       "      <th>4</th>\n",
       "      <td>772540</td>\n",
       "      <td>Battle Royale Trainer</td>\n",
       "      <td>['Action', 'Adventure', 'Simulation']</td>\n",
       "    </tr>\n",
       "  </tbody>\n",
       "</table>\n",
       "</div>"
      ],
      "text/plain": [
       "       id                 app_name   \n",
       "0  761140      Lost Summoner Kitty  \\\n",
       "1  643980                Ironbound   \n",
       "2  670290  Real Pool 3D - Poolians   \n",
       "3  767400                  弹炸人2222   \n",
       "4  772540    Battle Royale Trainer   \n",
       "\n",
       "                                              genres  \n",
       "0  ['Action', 'Casual', 'Indie', 'Simulation', 'S...  \n",
       "1       ['Free to Play', 'Indie', 'RPG', 'Strategy']  \n",
       "2  ['Casual', 'Free to Play', 'Indie', 'Simulatio...  \n",
       "3                  ['Action', 'Adventure', 'Casual']  \n",
       "4              ['Action', 'Adventure', 'Simulation']  "
      ]
     },
     "execution_count": 58,
     "metadata": {},
     "output_type": "execute_result"
    }
   ],
   "source": [
    "games.head()"
   ]
  },
  {
   "cell_type": "code",
   "execution_count": 5,
   "metadata": {},
   "outputs": [
    {
     "data": {
      "text/plain": [
       "(28728, 3)"
      ]
     },
     "execution_count": 5,
     "metadata": {},
     "output_type": "execute_result"
    }
   ],
   "source": [
    "games.shape"
   ]
  },
  {
   "cell_type": "code",
   "execution_count": 6,
   "metadata": {},
   "outputs": [],
   "source": [
    "games = games.drop_duplicates()"
   ]
  },
  {
   "cell_type": "code",
   "execution_count": 8,
   "metadata": {},
   "outputs": [
    {
     "name": "stdout",
     "output_type": "stream",
     "text": [
      "<class 'pandas.core.frame.DataFrame'>\n",
      "Index: 28727 entries, 0 to 28727\n",
      "Data columns (total 3 columns):\n",
      " #   Column    Non-Null Count  Dtype \n",
      "---  ------    --------------  ----- \n",
      " 0   id        28727 non-null  int64 \n",
      " 1   app_name  28727 non-null  object\n",
      " 2   genres    28727 non-null  object\n",
      "dtypes: int64(1), object(2)\n",
      "memory usage: 897.7+ KB\n"
     ]
    }
   ],
   "source": [
    "games.info()"
   ]
  },
  {
   "cell_type": "code",
   "execution_count": 14,
   "metadata": {},
   "outputs": [],
   "source": [
    "muestra_games = games.sample(n=5000) \n",
    "\n"
   ]
  },
  {
   "cell_type": "code",
   "execution_count": 16,
   "metadata": {},
   "outputs": [
    {
     "data": {
      "text/html": [
       "<div>\n",
       "<style scoped>\n",
       "    .dataframe tbody tr th:only-of-type {\n",
       "        vertical-align: middle;\n",
       "    }\n",
       "\n",
       "    .dataframe tbody tr th {\n",
       "        vertical-align: top;\n",
       "    }\n",
       "\n",
       "    .dataframe thead th {\n",
       "        text-align: right;\n",
       "    }\n",
       "</style>\n",
       "<table border=\"1\" class=\"dataframe\">\n",
       "  <thead>\n",
       "    <tr style=\"text-align: right;\">\n",
       "      <th></th>\n",
       "      <th>id</th>\n",
       "      <th>app_name</th>\n",
       "      <th>genres</th>\n",
       "    </tr>\n",
       "  </thead>\n",
       "  <tbody>\n",
       "    <tr>\n",
       "      <th>0</th>\n",
       "      <td>275830</td>\n",
       "      <td>7 Wonders: Magical Mystery Tour</td>\n",
       "      <td>['Casual', 'Strategy']</td>\n",
       "    </tr>\n",
       "    <tr>\n",
       "      <th>1</th>\n",
       "      <td>329150</td>\n",
       "      <td>Vanguard Princess Lilith</td>\n",
       "      <td>['Action', 'Casual', 'Indie']</td>\n",
       "    </tr>\n",
       "    <tr>\n",
       "      <th>2</th>\n",
       "      <td>353940</td>\n",
       "      <td>Aces of the Luftwaffe</td>\n",
       "      <td>['Action']</td>\n",
       "    </tr>\n",
       "    <tr>\n",
       "      <th>3</th>\n",
       "      <td>590630</td>\n",
       "      <td>Fantasy Grounds - A Wedding at Axebridge (RMC)</td>\n",
       "      <td>['Indie', 'RPG', 'Strategy']</td>\n",
       "    </tr>\n",
       "    <tr>\n",
       "      <th>4</th>\n",
       "      <td>3520</td>\n",
       "      <td>Mystery P.I.™ - The Vegas Heist</td>\n",
       "      <td>['Casual']</td>\n",
       "    </tr>\n",
       "  </tbody>\n",
       "</table>\n",
       "</div>"
      ],
      "text/plain": [
       "       id                                        app_name   \n",
       "0  275830                 7 Wonders: Magical Mystery Tour  \\\n",
       "1  329150                        Vanguard Princess Lilith   \n",
       "2  353940                           Aces of the Luftwaffe   \n",
       "3  590630  Fantasy Grounds - A Wedding at Axebridge (RMC)   \n",
       "4    3520                 Mystery P.I.™ - The Vegas Heist   \n",
       "\n",
       "                          genres  \n",
       "0         ['Casual', 'Strategy']  \n",
       "1  ['Action', 'Casual', 'Indie']  \n",
       "2                     ['Action']  \n",
       "3   ['Indie', 'RPG', 'Strategy']  \n",
       "4                     ['Casual']  "
      ]
     },
     "execution_count": 16,
     "metadata": {},
     "output_type": "execute_result"
    }
   ],
   "source": [
    "muestra_games = muestra_games.reset_index(drop=True)\n",
    "muestra_games.head()\n"
   ]
  },
  {
   "cell_type": "code",
   "execution_count": 24,
   "metadata": {},
   "outputs": [],
   "source": [
    "muestra_games.to_csv('data_modelo.csv')"
   ]
  },
  {
   "cell_type": "code",
   "execution_count": 21,
   "metadata": {},
   "outputs": [],
   "source": [
    "def recomendacion_juego(product_id):\n",
    "    # Calcula la matriz TF-IDF para los géneros de juegos\n",
    "    tfidf_vectorizer = TfidfVectorizer(stop_words='english', max_features=500)\n",
    "    tfidf_matrix = tfidf_vectorizer.fit_transform(muestra_games['genres'])\n",
    "    \n",
    "    # Calcula la similitud de coseno entre los juegos\n",
    "    cosine_sim = linear_kernel(tfidf_matrix, tfidf_matrix)\n",
    "    \n",
    "    # Encuentra el índice del juego con el ID dado\n",
    "    index = muestra_games[muestra_games['id'] == product_id].index[0]\n",
    "    \n",
    "    # Calcula las puntuaciones de similitud de coseno para el juego en cuestión\n",
    "    sim_scores = list(enumerate(cosine_sim[index]))\n",
    "    \n",
    "    # Ordena los juegos en función de las puntuaciones de similitud\n",
    "    sim_scores = sorted(sim_scores, key=lambda x: x[1], reverse=True)\n",
    "    \n",
    "    # Obtiene los índices de los juegos más similares (excluyendo el juego de entrada)\n",
    "    sim_scores = sim_scores[1:6]  # Cambia esto si quieres más o menos recomendaciones\n",
    "    \n",
    "    # Obtiene los títulos de los juegos recomendados\n",
    "    game_indices = [i[0] for i in sim_scores]\n",
    "    recommended_game_titles = muestra_games.iloc[game_indices]['app_name']\n",
    "    \n",
    "    return recommended_game_titles\n"
   ]
  },
  {
   "cell_type": "code",
   "execution_count": 22,
   "metadata": {},
   "outputs": [
    {
     "data": {
      "text/plain": [
       "231                                    Zombie Quarantine\n",
       "366                     Garden Rescue: Christmas Edition\n",
       "382                                           Battleship\n",
       "544    Fritz for Fun 13: Chessbase Power Play Tutoria...\n",
       "786                         Crazy Machines: Golden Gears\n",
       "Name: app_name, dtype: object"
      ]
     },
     "execution_count": 22,
     "metadata": {},
     "output_type": "execute_result"
    }
   ],
   "source": [
    "recomendacion_juego(275830)"
   ]
  }
 ],
 "metadata": {
  "kernelspec": {
   "display_name": "Python 3",
   "language": "python",
   "name": "python3"
  },
  "language_info": {
   "codemirror_mode": {
    "name": "ipython",
    "version": 3
   },
   "file_extension": ".py",
   "mimetype": "text/x-python",
   "name": "python",
   "nbconvert_exporter": "python",
   "pygments_lexer": "ipython3",
   "version": "3.10.11"
  },
  "orig_nbformat": 4
 },
 "nbformat": 4,
 "nbformat_minor": 2
}
