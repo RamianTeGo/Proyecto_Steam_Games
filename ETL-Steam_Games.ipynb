{
 "cells": [
  {
   "cell_type": "code",
   "execution_count": 1,
   "metadata": {},
   "outputs": [],
   "source": [
    "# Importamos las librerias ast y pandas\n",
    "import ast\n",
    "import pandas as pd"
   ]
  },
  {
   "cell_type": "code",
   "execution_count": 2,
   "metadata": {},
   "outputs": [],
   "source": [
    "# Se abre el archivo en formato json \"steam_games\" y se lee el archivo linea por linea y aplicamos la funcion ast.literal_eval()\n",
    "# a cada una de las lineas\n",
    "data = []\n",
    "with open('steam_games.json') as steam:\n",
    "    for linea in steam.readlines():\n",
    "        data.append(ast.literal_eval(linea)) \n",
    "    "
   ]
  },
  {
   "cell_type": "code",
   "execution_count": 3,
   "metadata": {},
   "outputs": [
    {
     "data": {
      "text/html": [
       "<div>\n",
       "<style scoped>\n",
       "    .dataframe tbody tr th:only-of-type {\n",
       "        vertical-align: middle;\n",
       "    }\n",
       "\n",
       "    .dataframe tbody tr th {\n",
       "        vertical-align: top;\n",
       "    }\n",
       "\n",
       "    .dataframe thead th {\n",
       "        text-align: right;\n",
       "    }\n",
       "</style>\n",
       "<table border=\"1\" class=\"dataframe\">\n",
       "  <thead>\n",
       "    <tr style=\"text-align: right;\">\n",
       "      <th></th>\n",
       "      <th>publisher</th>\n",
       "      <th>genres</th>\n",
       "      <th>app_name</th>\n",
       "      <th>title</th>\n",
       "      <th>url</th>\n",
       "      <th>release_date</th>\n",
       "      <th>tags</th>\n",
       "      <th>discount_price</th>\n",
       "      <th>reviews_url</th>\n",
       "      <th>specs</th>\n",
       "      <th>price</th>\n",
       "      <th>early_access</th>\n",
       "      <th>id</th>\n",
       "      <th>developer</th>\n",
       "      <th>sentiment</th>\n",
       "      <th>metascore</th>\n",
       "    </tr>\n",
       "  </thead>\n",
       "  <tbody>\n",
       "    <tr>\n",
       "      <th>0</th>\n",
       "      <td>Kotoshiro</td>\n",
       "      <td>[Action, Casual, Indie, Simulation, Strategy]</td>\n",
       "      <td>Lost Summoner Kitty</td>\n",
       "      <td>Lost Summoner Kitty</td>\n",
       "      <td>http://store.steampowered.com/app/761140/Lost_...</td>\n",
       "      <td>2018-01-04</td>\n",
       "      <td>[Strategy, Action, Indie, Casual, Simulation]</td>\n",
       "      <td>4.49</td>\n",
       "      <td>http://steamcommunity.com/app/761140/reviews/?...</td>\n",
       "      <td>[Single-player]</td>\n",
       "      <td>4.99</td>\n",
       "      <td>False</td>\n",
       "      <td>761140</td>\n",
       "      <td>Kotoshiro</td>\n",
       "      <td>NaN</td>\n",
       "      <td>NaN</td>\n",
       "    </tr>\n",
       "    <tr>\n",
       "      <th>1</th>\n",
       "      <td>Making Fun, Inc.</td>\n",
       "      <td>[Free to Play, Indie, RPG, Strategy]</td>\n",
       "      <td>Ironbound</td>\n",
       "      <td>Ironbound</td>\n",
       "      <td>http://store.steampowered.com/app/643980/Ironb...</td>\n",
       "      <td>2018-01-04</td>\n",
       "      <td>[Free to Play, Strategy, Indie, RPG, Card Game...</td>\n",
       "      <td>NaN</td>\n",
       "      <td>http://steamcommunity.com/app/643980/reviews/?...</td>\n",
       "      <td>[Single-player, Multi-player, Online Multi-Pla...</td>\n",
       "      <td>Free To Play</td>\n",
       "      <td>False</td>\n",
       "      <td>643980</td>\n",
       "      <td>Secret Level SRL</td>\n",
       "      <td>Mostly Positive</td>\n",
       "      <td>NaN</td>\n",
       "    </tr>\n",
       "    <tr>\n",
       "      <th>2</th>\n",
       "      <td>Poolians.com</td>\n",
       "      <td>[Casual, Free to Play, Indie, Simulation, Sports]</td>\n",
       "      <td>Real Pool 3D - Poolians</td>\n",
       "      <td>Real Pool 3D - Poolians</td>\n",
       "      <td>http://store.steampowered.com/app/670290/Real_...</td>\n",
       "      <td>2017-07-24</td>\n",
       "      <td>[Free to Play, Simulation, Sports, Casual, Ind...</td>\n",
       "      <td>NaN</td>\n",
       "      <td>http://steamcommunity.com/app/670290/reviews/?...</td>\n",
       "      <td>[Single-player, Multi-player, Online Multi-Pla...</td>\n",
       "      <td>Free to Play</td>\n",
       "      <td>False</td>\n",
       "      <td>670290</td>\n",
       "      <td>Poolians.com</td>\n",
       "      <td>Mostly Positive</td>\n",
       "      <td>NaN</td>\n",
       "    </tr>\n",
       "    <tr>\n",
       "      <th>3</th>\n",
       "      <td>彼岸领域</td>\n",
       "      <td>[Action, Adventure, Casual]</td>\n",
       "      <td>弹炸人2222</td>\n",
       "      <td>弹炸人2222</td>\n",
       "      <td>http://store.steampowered.com/app/767400/2222/</td>\n",
       "      <td>2017-12-07</td>\n",
       "      <td>[Action, Adventure, Casual]</td>\n",
       "      <td>0.83</td>\n",
       "      <td>http://steamcommunity.com/app/767400/reviews/?...</td>\n",
       "      <td>[Single-player]</td>\n",
       "      <td>0.99</td>\n",
       "      <td>False</td>\n",
       "      <td>767400</td>\n",
       "      <td>彼岸领域</td>\n",
       "      <td>NaN</td>\n",
       "      <td>NaN</td>\n",
       "    </tr>\n",
       "    <tr>\n",
       "      <th>4</th>\n",
       "      <td>NaN</td>\n",
       "      <td>NaN</td>\n",
       "      <td>Log Challenge</td>\n",
       "      <td>NaN</td>\n",
       "      <td>http://store.steampowered.com/app/773570/Log_C...</td>\n",
       "      <td>NaN</td>\n",
       "      <td>[Action, Indie, Casual, Sports]</td>\n",
       "      <td>1.79</td>\n",
       "      <td>http://steamcommunity.com/app/773570/reviews/?...</td>\n",
       "      <td>[Single-player, Full controller support, HTC V...</td>\n",
       "      <td>2.99</td>\n",
       "      <td>False</td>\n",
       "      <td>773570</td>\n",
       "      <td>NaN</td>\n",
       "      <td>NaN</td>\n",
       "      <td>NaN</td>\n",
       "    </tr>\n",
       "  </tbody>\n",
       "</table>\n",
       "</div>"
      ],
      "text/plain": [
       "          publisher                                             genres  \\\n",
       "0         Kotoshiro      [Action, Casual, Indie, Simulation, Strategy]   \n",
       "1  Making Fun, Inc.               [Free to Play, Indie, RPG, Strategy]   \n",
       "2      Poolians.com  [Casual, Free to Play, Indie, Simulation, Sports]   \n",
       "3              彼岸领域                        [Action, Adventure, Casual]   \n",
       "4               NaN                                                NaN   \n",
       "\n",
       "                  app_name                    title  \\\n",
       "0      Lost Summoner Kitty      Lost Summoner Kitty   \n",
       "1                Ironbound                Ironbound   \n",
       "2  Real Pool 3D - Poolians  Real Pool 3D - Poolians   \n",
       "3                  弹炸人2222                  弹炸人2222   \n",
       "4            Log Challenge                      NaN   \n",
       "\n",
       "                                                 url release_date  \\\n",
       "0  http://store.steampowered.com/app/761140/Lost_...   2018-01-04   \n",
       "1  http://store.steampowered.com/app/643980/Ironb...   2018-01-04   \n",
       "2  http://store.steampowered.com/app/670290/Real_...   2017-07-24   \n",
       "3     http://store.steampowered.com/app/767400/2222/   2017-12-07   \n",
       "4  http://store.steampowered.com/app/773570/Log_C...          NaN   \n",
       "\n",
       "                                                tags  discount_price  \\\n",
       "0      [Strategy, Action, Indie, Casual, Simulation]            4.49   \n",
       "1  [Free to Play, Strategy, Indie, RPG, Card Game...             NaN   \n",
       "2  [Free to Play, Simulation, Sports, Casual, Ind...             NaN   \n",
       "3                        [Action, Adventure, Casual]            0.83   \n",
       "4                    [Action, Indie, Casual, Sports]            1.79   \n",
       "\n",
       "                                         reviews_url  \\\n",
       "0  http://steamcommunity.com/app/761140/reviews/?...   \n",
       "1  http://steamcommunity.com/app/643980/reviews/?...   \n",
       "2  http://steamcommunity.com/app/670290/reviews/?...   \n",
       "3  http://steamcommunity.com/app/767400/reviews/?...   \n",
       "4  http://steamcommunity.com/app/773570/reviews/?...   \n",
       "\n",
       "                                               specs         price  \\\n",
       "0                                    [Single-player]          4.99   \n",
       "1  [Single-player, Multi-player, Online Multi-Pla...  Free To Play   \n",
       "2  [Single-player, Multi-player, Online Multi-Pla...  Free to Play   \n",
       "3                                    [Single-player]          0.99   \n",
       "4  [Single-player, Full controller support, HTC V...          2.99   \n",
       "\n",
       "   early_access      id         developer        sentiment metascore  \n",
       "0         False  761140         Kotoshiro              NaN       NaN  \n",
       "1         False  643980  Secret Level SRL  Mostly Positive       NaN  \n",
       "2         False  670290      Poolians.com  Mostly Positive       NaN  \n",
       "3         False  767400              彼岸领域              NaN       NaN  \n",
       "4         False  773570               NaN              NaN       NaN  "
      ]
     },
     "execution_count": 3,
     "metadata": {},
     "output_type": "execute_result"
    }
   ],
   "source": [
    "# Convertimos nuestra data a un DataFrame para que nos facilite el trabajo transformacion de la data\n",
    "df = pd.DataFrame(data)\n",
    "df.head()"
   ]
  },
  {
   "cell_type": "code",
   "execution_count": 4,
   "metadata": {},
   "outputs": [
    {
     "name": "stdout",
     "output_type": "stream",
     "text": [
      "<class 'pandas.core.frame.DataFrame'>\n",
      "RangeIndex: 32135 entries, 0 to 32134\n",
      "Data columns (total 16 columns):\n",
      " #   Column          Non-Null Count  Dtype  \n",
      "---  ------          --------------  -----  \n",
      " 0   publisher       24083 non-null  object \n",
      " 1   genres          28852 non-null  object \n",
      " 2   app_name        32133 non-null  object \n",
      " 3   title           30085 non-null  object \n",
      " 4   url             32135 non-null  object \n",
      " 5   release_date    30068 non-null  object \n",
      " 6   tags            31972 non-null  object \n",
      " 7   discount_price  225 non-null    float64\n",
      " 8   reviews_url     32133 non-null  object \n",
      " 9   specs           31465 non-null  object \n",
      " 10  price           30758 non-null  object \n",
      " 11  early_access    32135 non-null  bool   \n",
      " 12  id              32133 non-null  object \n",
      " 13  developer       28836 non-null  object \n",
      " 14  sentiment       24953 non-null  object \n",
      " 15  metascore       2677 non-null   object \n",
      "dtypes: bool(1), float64(1), object(14)\n",
      "memory usage: 3.7+ MB\n"
     ]
    }
   ],
   "source": [
    "# Se realiza un checkeo general del dataset y asi tener mejor comprension de los campos que contiene\n",
    "df.info()"
   ]
  },
  {
   "cell_type": "code",
   "execution_count": 5,
   "metadata": {},
   "outputs": [],
   "source": [
    "# Despues de mirar cada uno de los campos se toma a considerar campos especificos y crear un nuevo dataset,\n",
    "# los cuales son requeridos para el desarrollo de las funciones\n",
    "dataset = df[['title','genres','release_date','price','specs','early_access','metascore','sentiment']]"
   ]
  },
  {
   "cell_type": "code",
   "execution_count": 6,
   "metadata": {},
   "outputs": [
    {
     "name": "stdout",
     "output_type": "stream",
     "text": [
      "<class 'pandas.core.frame.DataFrame'>\n",
      "RangeIndex: 32135 entries, 0 to 32134\n",
      "Data columns (total 8 columns):\n",
      " #   Column        Non-Null Count  Dtype \n",
      "---  ------        --------------  ----- \n",
      " 0   title         30085 non-null  object\n",
      " 1   genres        28852 non-null  object\n",
      " 2   release_date  30068 non-null  object\n",
      " 3   price         30758 non-null  object\n",
      " 4   specs         31465 non-null  object\n",
      " 5   early_access  32135 non-null  bool  \n",
      " 6   metascore     2677 non-null   object\n",
      " 7   sentiment     24953 non-null  object\n",
      "dtypes: bool(1), object(7)\n",
      "memory usage: 1.7+ MB\n"
     ]
    }
   ],
   "source": [
    "dataset.info()"
   ]
  },
  {
   "cell_type": "code",
   "execution_count": 7,
   "metadata": {},
   "outputs": [
    {
     "data": {
      "text/plain": [
       "array(['Action', 'Casual', 'Indie', 'Simulation', 'Strategy',\n",
       "       'Free to Play', 'RPG', 'Sports', 'Adventure', nan, 'Racing',\n",
       "       'Early Access', 'Massively Multiplayer',\n",
       "       'Animation &amp; Modeling', 'Video Production', 'Utilities',\n",
       "       'Web Publishing', 'Education', 'Software Training',\n",
       "       'Design &amp; Illustration', 'Audio Production', 'Photo Editing',\n",
       "       'Accounting'], dtype=object)"
      ]
     },
     "execution_count": 7,
     "metadata": {},
     "output_type": "execute_result"
    }
   ],
   "source": [
    "# Checkeamos los valores unicos de los genres y donde nos muestran cada uno de los generos en \n",
    "# especifico y se encuentran unos registro 'nan'\n",
    "dataset['genres'].explode().unique()"
   ]
  },
  {
   "cell_type": "code",
   "execution_count": 8,
   "metadata": {},
   "outputs": [
    {
     "data": {
      "text/plain": [
       "3283"
      ]
     },
     "execution_count": 8,
     "metadata": {},
     "output_type": "execute_result"
    }
   ],
   "source": [
    "# Contamos la cantidad de nulos y se decide eliminarlos por ser un numero menor con respecto \n",
    "# a la cantidad total\n",
    "dataset['genres'].isnull().sum()"
   ]
  },
  {
   "cell_type": "code",
   "execution_count": 9,
   "metadata": {},
   "outputs": [
    {
     "name": "stderr",
     "output_type": "stream",
     "text": [
      "C:\\Users\\angel\\AppData\\Local\\Temp\\ipykernel_15572\\430004892.py:1: SettingWithCopyWarning: \n",
      "A value is trying to be set on a copy of a slice from a DataFrame\n",
      "\n",
      "See the caveats in the documentation: https://pandas.pydata.org/pandas-docs/stable/user_guide/indexing.html#returning-a-view-versus-a-copy\n",
      "  dataset.dropna(subset='genres', inplace=True)\n"
     ]
    }
   ],
   "source": [
    "# Borramos los nulos\n",
    "dataset.dropna(subset='genres', inplace=True)"
   ]
  },
  {
   "cell_type": "code",
   "execution_count": 10,
   "metadata": {},
   "outputs": [
    {
     "name": "stdout",
     "output_type": "stream",
     "text": [
      "<class 'pandas.core.frame.DataFrame'>\n",
      "Index: 28852 entries, 0 to 32133\n",
      "Data columns (total 8 columns):\n",
      " #   Column        Non-Null Count  Dtype \n",
      "---  ------        --------------  ----- \n",
      " 0   title         28851 non-null  object\n",
      " 1   genres        28852 non-null  object\n",
      " 2   release_date  28834 non-null  object\n",
      " 3   price         27622 non-null  object\n",
      " 4   specs         28566 non-null  object\n",
      " 5   early_access  28852 non-null  bool  \n",
      " 6   metascore     2613 non-null   object\n",
      " 7   sentiment     22536 non-null  object\n",
      "dtypes: bool(1), object(7)\n",
      "memory usage: 1.8+ MB\n"
     ]
    }
   ],
   "source": [
    "dataset.info()"
   ]
  },
  {
   "cell_type": "code",
   "execution_count": 11,
   "metadata": {},
   "outputs": [],
   "source": [
    "# En todas y cada uno de las funciones el campo de importancia es la fecha, por esto se realizan cambios\n",
    "# relevantes, tales como:\n",
    "# Se guardan solo los registron que no tengan release_date nula \n",
    "dataset = dataset[dataset['release_date'].notna()]"
   ]
  },
  {
   "cell_type": "code",
   "execution_count": 12,
   "metadata": {},
   "outputs": [
    {
     "name": "stdout",
     "output_type": "stream",
     "text": [
      "<class 'pandas.core.frame.DataFrame'>\n",
      "Index: 28834 entries, 0 to 32133\n",
      "Data columns (total 8 columns):\n",
      " #   Column        Non-Null Count  Dtype         \n",
      "---  ------        --------------  -----         \n",
      " 0   title         28833 non-null  object        \n",
      " 1   genres        28834 non-null  object        \n",
      " 2   release_date  28549 non-null  datetime64[ns]\n",
      " 3   price         27618 non-null  object        \n",
      " 4   specs         28548 non-null  object        \n",
      " 5   early_access  28834 non-null  bool          \n",
      " 6   metascore     2610 non-null   object        \n",
      " 7   sentiment     22532 non-null  object        \n",
      "dtypes: bool(1), datetime64[ns](1), object(6)\n",
      "memory usage: 1.8+ MB\n"
     ]
    }
   ],
   "source": [
    "# Se hace el cambio de formato de fecha a AAAA-mm-dd \n",
    "dataset['release_date']= pd.to_datetime(dataset['release_date'],format='%Y-%m-%d', errors='coerce')\n",
    "dataset.info()\n"
   ]
  },
  {
   "cell_type": "code",
   "execution_count": 13,
   "metadata": {},
   "outputs": [
    {
     "data": {
      "text/plain": [
       "0        2018\n",
       "1        2018\n",
       "2        2017\n",
       "3        2017\n",
       "5        2018\n",
       "         ... \n",
       "32129    2018\n",
       "32130    2018\n",
       "32131    2018\n",
       "32132    2018\n",
       "32133    2017\n",
       "Name: year, Length: 28834, dtype: Int16"
      ]
     },
     "execution_count": 13,
     "metadata": {},
     "output_type": "execute_result"
    }
   ],
   "source": [
    "# Se crea una nueva columna 'release_year', donde se extrae el año de especifico de lanzamiento\n",
    "dataset['year'] = dataset['release_date'].dt.year\n",
    "dataset['year']= dataset['year'].astype('Int16')\n",
    "dataset['year']"
   ]
  },
  {
   "cell_type": "code",
   "execution_count": 16,
   "metadata": {},
   "outputs": [
    {
     "name": "stdout",
     "output_type": "stream",
     "text": [
      "object\n",
      "[4.99 'Free To Play' 'Free to Play' 0.99 3.99 9.99 18.99 29.99 nan 10.99\n",
      " 2.99 1.59 14.99 1.99 59.99 8.99 6.99 7.99 39.99 'Free' 19.99 7.49 12.99\n",
      " 5.99 2.49 15.99 1.25 24.99 17.99 61.99 3.49 11.99 13.99 'Free Demo'\n",
      " 'Play for Free!' 34.99 1.49 32.99 99.99 14.95 69.99 16.99 79.99 49.99 5.0\n",
      " 44.99 13.98 29.96 109.99 149.99 771.71 'Install Now' 21.99 89.99\n",
      " 'Play WARMACHINE: Tactics Demo' 0.98 139.92 4.29 64.99 'Free Mod' 54.99\n",
      " 74.99 'Install Theme' 0.89 'Third-party' 0.5 'Play Now' 299.99 1.29\n",
      " 119.99 3.0 15.0 5.49 23.99 49.0 20.99 10.93 1.39\n",
      " 'Free HITMAN™ Holiday Pack' 36.99 4.49 2.0 4.0 1.95 1.5 199.0 189.0 6.66\n",
      " 27.99 129.99 179.0 26.99 399.99 31.99 399.0 20.0 40.0 3.33 22.99 320.0\n",
      " 38.85 71.7 995.0 27.49 3.39 6.0 19.95 499.99 199.99 16.06 4.68 131.4\n",
      " 44.98 202.76 2.3 0.95 172.24 249.99 2.97 10.96 10.0 30.0 2.66 6.48 1.0\n",
      " 11.15 'Play the Demo' 99.0 87.94 0.49 9.98 9.95 7.0 12.89 6.49 1.87 42.99\n",
      " 41.99 289.99 'Free to Try' 23.96 5.65 12.0 59.95 13.37 189.96 124.99\n",
      " 19.98 160.91 'Free to Use']\n",
      "1216\n"
     ]
    }
   ],
   "source": [
    "# Revisamos el price para considerar cambios en la variable\n",
    "print(dataset['price'].dtype)\n",
    "print(dataset['price'].unique())\n",
    "print(dataset['price'].isnull().sum())"
   ]
  },
  {
   "cell_type": "code",
   "execution_count": 17,
   "metadata": {},
   "outputs": [],
   "source": [
    "# Como se puede observar el campo 'price' es de tipo object, contiene registro no numericos y nulos\n",
    "# Entonces convertimos el campo en numerico y rellenamos los no numericos en 0\n",
    "dataset['price'] = pd.to_numeric(df['price'], errors='coerce').fillna(0)"
   ]
  },
  {
   "cell_type": "code",
   "execution_count": 18,
   "metadata": {},
   "outputs": [
    {
     "data": {
      "text/plain": [
       "count    28834.000000\n",
       "mean         8.625212\n",
       "std         15.721177\n",
       "min          0.000000\n",
       "25%          1.990000\n",
       "50%          4.990000\n",
       "75%          9.990000\n",
       "max        995.000000\n",
       "Name: price, dtype: float64"
      ]
     },
     "execution_count": 18,
     "metadata": {},
     "output_type": "execute_result"
    }
   ],
   "source": [
    "dataset['price'].describe()"
   ]
  },
  {
   "cell_type": "code",
   "execution_count": 19,
   "metadata": {},
   "outputs": [],
   "source": [
    "# Cambiamos el campo 'metascore' a numerico\n",
    "dataset['metascore'] = pd.to_numeric(df['metascore'], errors='coerce')\n"
   ]
  },
  {
   "cell_type": "code",
   "execution_count": 20,
   "metadata": {},
   "outputs": [
    {
     "data": {
      "text/plain": [
       "count    2542.000000\n",
       "mean       72.198269\n",
       "std        10.844725\n",
       "min        20.000000\n",
       "25%        66.000000\n",
       "50%        74.000000\n",
       "75%        80.000000\n",
       "max        96.000000\n",
       "Name: metascore, dtype: float64"
      ]
     },
     "execution_count": 20,
     "metadata": {},
     "output_type": "execute_result"
    }
   ],
   "source": [
    "dataset['metascore'].describe()"
   ]
  },
  {
   "cell_type": "code",
   "execution_count": 21,
   "metadata": {},
   "outputs": [
    {
     "data": {
      "text/plain": [
       "array([nan, 96., 84., 80., 76., 70., 69., 81., 75., 72., 66., 67., 77.,\n",
       "       91., 89., 83., 61., 88., 65., 94., 57., 86., 87., 92., 79., 82.,\n",
       "       58., 74., 85., 90., 68., 71., 60., 73., 59., 64., 54., 53., 78.,\n",
       "       51., 44., 63., 38., 56., 49., 52., 62., 93., 48., 34., 95., 43.,\n",
       "       55., 24., 46., 41., 20., 39., 45., 35., 47., 40., 36., 50., 32.,\n",
       "       37., 33., 42., 27., 29., 30.])"
      ]
     },
     "execution_count": 21,
     "metadata": {},
     "output_type": "execute_result"
    }
   ],
   "source": [
    "#Checkeamos los valores nulos y se observa que hay unos regisros nulos \n",
    "dataset['metascore'].unique()"
   ]
  },
  {
   "cell_type": "code",
   "execution_count": 22,
   "metadata": {},
   "outputs": [],
   "source": [
    "# Se considera borrar los nulos de los registros para obtener un campo limpio\n",
    "dataset.dropna(subset='metascore', inplace=True)"
   ]
  },
  {
   "cell_type": "code",
   "execution_count": 23,
   "metadata": {},
   "outputs": [
    {
     "name": "stdout",
     "output_type": "stream",
     "text": [
      "<class 'pandas.core.frame.DataFrame'>\n",
      "Index: 2542 entries, 28 to 32117\n",
      "Data columns (total 9 columns):\n",
      " #   Column        Non-Null Count  Dtype         \n",
      "---  ------        --------------  -----         \n",
      " 0   title         2542 non-null   object        \n",
      " 1   genres        2542 non-null   object        \n",
      " 2   release_date  2534 non-null   datetime64[ns]\n",
      " 3   price         2542 non-null   float64       \n",
      " 4   specs         2538 non-null   object        \n",
      " 5   early_access  2542 non-null   bool          \n",
      " 6   metascore     2542 non-null   float64       \n",
      " 7   sentiment     2523 non-null   object        \n",
      " 8   year          2534 non-null   Int16         \n",
      "dtypes: Int16(1), bool(1), datetime64[ns](1), float64(2), object(4)\n",
      "memory usage: 168.8+ KB\n"
     ]
    }
   ],
   "source": [
    "dataset.info()"
   ]
  },
  {
   "cell_type": "code",
   "execution_count": 24,
   "metadata": {},
   "outputs": [],
   "source": [
    "dataset.to_csv('data_games.csv')"
   ]
  }
 ],
 "metadata": {
  "kernelspec": {
   "display_name": "Python 3",
   "language": "python",
   "name": "python3"
  },
  "language_info": {
   "codemirror_mode": {
    "name": "ipython",
    "version": 3
   },
   "file_extension": ".py",
   "mimetype": "text/x-python",
   "name": "python",
   "nbconvert_exporter": "python",
   "pygments_lexer": "ipython3",
   "version": "3.10.11"
  },
  "orig_nbformat": 4
 },
 "nbformat": 4,
 "nbformat_minor": 2
}
