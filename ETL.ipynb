{
 "cells": [
  {
   "cell_type": "code",
   "execution_count": 1,
   "metadata": {},
   "outputs": [],
   "source": [
    "import pandas as pd\n",
    "import json\n",
    "import ast\n",
    "from textblob import TextBlob\n",
    "import re\n",
    "\n"
   ]
  },
  {
   "cell_type": "markdown",
   "metadata": {},
   "source": [
    "ETL\n",
    "\n",
    "Se realiza la carga y transformaciones necesarias de los archivos \n",
    "- 'australian_user_reviews.json'\n",
    "- 'australian_users_items.json'\n",
    "- 'output_steam_games.json'\n",
    "\n",
    "Despues de este del proceso de ETL, se obtuvieron los sgtes csv 'steam.csv', 'df_items.csv' y 'reviuws.csv'"
   ]
  },
  {
   "cell_type": "markdown",
   "metadata": {},
   "source": [
    "DATA  'australian_user_reviews.json'"
   ]
  },
  {
   "cell_type": "code",
   "execution_count": null,
   "metadata": {},
   "outputs": [],
   "source": [
    "# Se abre el archivo en formato json \"steam_games\" y se lee el archivo linea por linea y aplicamos la funcion json.loads\n",
    "# a cada una de las lineas\n",
    "data = []\n",
    "with open('output_steam_games.json') as steam:\n",
    "    for linea in steam:\n",
    "        dato = json.loads(linea)\n",
    "        data.append(dato) "
   ]
  },
  {
   "cell_type": "code",
   "execution_count": null,
   "metadata": {},
   "outputs": [],
   "source": [
    "steam_game = pd.DataFrame(data)\n",
    "print(steam_game.shape)\n",
    "print(steam_game.head())\n"
   ]
  },
  {
   "cell_type": "code",
   "execution_count": null,
   "metadata": {},
   "outputs": [],
   "source": [
    "# # Se realiza un checkeo general del dataframe y asi tener mejor comprension de los campos que contiene\n",
    "steam_game.info()\n"
   ]
  },
  {
   "cell_type": "code",
   "execution_count": null,
   "metadata": {},
   "outputs": [],
   "source": [
    "# Despues de mirar cada uno de los campos se eliminan los inecesarios y se consideran campos especificos,\n",
    "# los cuales son requeridos para el desarrollo de las funciones\n",
    "\n",
    "steam = steam_game[['id', 'genres','app_name','release_date']].copy()"
   ]
  },
  {
   "cell_type": "code",
   "execution_count": null,
   "metadata": {},
   "outputs": [],
   "source": [
    "steam.shape"
   ]
  },
  {
   "cell_type": "code",
   "execution_count": null,
   "metadata": {},
   "outputs": [],
   "source": [
    "# Observamos el nuevo Dataframe 'steam'\n",
    "steam.info()"
   ]
  },
  {
   "cell_type": "code",
   "execution_count": null,
   "metadata": {},
   "outputs": [],
   "source": [
    "# El dataframe tiene aproximadamente mas del 70% de nulos en comparacion al total de los registros\n",
    "steam.isnull().sum()"
   ]
  },
  {
   "cell_type": "code",
   "execution_count": null,
   "metadata": {},
   "outputs": [],
   "source": [
    "# Se eliminan los nulos ya que no son representativas para el desarrollo del proyecto \n",
    "# Generando un dataframe con 28.832 registro validos\n",
    "steam.dropna(inplace=True)"
   ]
  },
  {
   "cell_type": "code",
   "execution_count": null,
   "metadata": {},
   "outputs": [],
   "source": [
    "# Se trabaja cada uno de los campos del dataframe\n",
    "# Se realiza el cambio de tipo de dato a int en el campo \n",
    "steam['id'] = steam['id'].astype(int)\n"
   ]
  },
  {
   "cell_type": "code",
   "execution_count": null,
   "metadata": {},
   "outputs": [],
   "source": [
    "# En el campo 'genres', se puede observar que esta compuesto por listas de generos x juegos\n",
    "steam['genres'].sample(3)"
   ]
  },
  {
   "cell_type": "code",
   "execution_count": null,
   "metadata": {},
   "outputs": [],
   "source": [
    "# Observamos como los valores unicos\n",
    "steam['genres'].explode().unique()"
   ]
  },
  {
   "cell_type": "code",
   "execution_count": null,
   "metadata": {},
   "outputs": [],
   "source": [
    "# En el campo 'release_date', por lo que son fechas los registros, se tiene un tipo de dato no valido\n",
    "steam['release_date'].head(3)"
   ]
  },
  {
   "cell_type": "code",
   "execution_count": null,
   "metadata": {},
   "outputs": [],
   "source": [
    "steam['release_date'].unique()"
   ]
  },
  {
   "cell_type": "code",
   "execution_count": null,
   "metadata": {},
   "outputs": [],
   "source": [
    "# Esta funcion tomara esos registros que solo tienen el año y los convertira en formato Y-M-D\n",
    "from datetime import datetime\n",
    "\n",
    "def procesar_cadena(cadena):\n",
    "    \n",
    "    if isinstance(cadena, str):\n",
    "        try:\n",
    "            # Intenta encontrar un año en la cadena utilizando una expresión regular\n",
    "            import re\n",
    "            year_match = re.search(r'\\b\\d{4}\\b', cadena)\n",
    "            \n",
    "            if year_match:\n",
    "                # Si se encuentra un año, conviértelo al formato '%Y-%m-%d'\n",
    "                year = int(year_match.group())\n",
    "                return datetime(year, 1, 1).strftime('%Y-%m-%d')\n",
    "            else:\n",
    "                # Si no se encuentra un año, devuelve None\n",
    "                return None\n",
    "        except ValueError:\n",
    "            # Si hay un error en la conversión, devuelve None\n",
    "            return None\n",
    "    else:\n",
    "        # Si no es una cadena, devuelve None\n",
    "        return None\n",
    "\n"
   ]
  },
  {
   "cell_type": "code",
   "execution_count": null,
   "metadata": {},
   "outputs": [],
   "source": [
    "steam['release_date'] = steam['release_date'].apply(procesar_cadena)\n"
   ]
  },
  {
   "cell_type": "code",
   "execution_count": null,
   "metadata": {},
   "outputs": [],
   "source": [
    "steam['release_date'].head(3)"
   ]
  },
  {
   "cell_type": "code",
   "execution_count": null,
   "metadata": {},
   "outputs": [],
   "source": [
    "steam.dropna(subset=['release_date'], inplace=True)\n"
   ]
  },
  {
   "cell_type": "code",
   "execution_count": null,
   "metadata": {},
   "outputs": [],
   "source": [
    "# Se procede a realizar el cambio\n",
    "steam['release_date'] = pd.to_datetime(steam['release_date'], errors='coerce')\n"
   ]
  },
  {
   "cell_type": "code",
   "execution_count": null,
   "metadata": {},
   "outputs": [],
   "source": [
    "steam['release_date']"
   ]
  },
  {
   "cell_type": "code",
   "execution_count": null,
   "metadata": {},
   "outputs": [],
   "source": [
    "# Se crea una nueva columna 'release_year', donde se extrae el año de especifico de lanzamiento\n",
    "steam.loc[:, 'year'] = steam['release_date'].dt.year\n",
    "steam['year'] = steam['year'].astype('int64')\n"
   ]
  },
  {
   "cell_type": "code",
   "execution_count": null,
   "metadata": {},
   "outputs": [],
   "source": [
    "steam.info()"
   ]
  },
  {
   "cell_type": "code",
   "execution_count": null,
   "metadata": {},
   "outputs": [],
   "source": [
    "steam.to_csv('steam.csv')"
   ]
  },
  {
   "cell_type": "markdown",
   "metadata": {},
   "source": [
    "DATA 'australian_users_items.json'"
   ]
  },
  {
   "cell_type": "code",
   "execution_count": null,
   "metadata": {},
   "outputs": [],
   "source": [
    "data1 = []\n",
    "with open('australian_users_items.json',encoding='utf-8') as item:\n",
    "    for linea in item.readlines():\n",
    "        data1.append(ast.literal_eval(linea))"
   ]
  },
  {
   "cell_type": "code",
   "execution_count": null,
   "metadata": {},
   "outputs": [],
   "source": [
    "#Convertimos a Dataframe\n",
    "item = pd.DataFrame(data1)"
   ]
  },
  {
   "cell_type": "code",
   "execution_count": null,
   "metadata": {},
   "outputs": [],
   "source": [
    "item.head()"
   ]
  },
  {
   "cell_type": "code",
   "execution_count": null,
   "metadata": {},
   "outputs": [],
   "source": [
    "# En el campo 'item' se encuentran listas de diccionarios, se utiliza la funcion 'json_normsliza' para desanidar\n",
    "df_items = pd.json_normalize(data1, record_path=['items'], meta=['steam_id','items_count','user_id', 'user_url'] )\n"
   ]
  },
  {
   "cell_type": "code",
   "execution_count": null,
   "metadata": {},
   "outputs": [],
   "source": [
    "# Observamos el dataframe\n",
    "df_items.head()"
   ]
  },
  {
   "cell_type": "code",
   "execution_count": null,
   "metadata": {},
   "outputs": [],
   "source": [
    "# Se eliminan los campos innecesarios 'playtime_2weeks', 'user_url', 'item_name','items_count','steam_id'\n",
    "df_items = df_items.drop(['user_url', 'playtime_2weeks'], axis = 1)"
   ]
  },
  {
   "cell_type": "code",
   "execution_count": 7,
   "metadata": {},
   "outputs": [],
   "source": [
    "df_items = df_items.drop(['item_name','items_count','steam_id'], axis = 1)"
   ]
  },
  {
   "cell_type": "code",
   "execution_count": 24,
   "metadata": {},
   "outputs": [],
   "source": [
    "df_items = df_items.drop(columns=['Unnamed: 0'])\n"
   ]
  },
  {
   "cell_type": "code",
   "execution_count": 21,
   "metadata": {},
   "outputs": [],
   "source": [
    "df_items = pd.read_csv('df_items.csv')"
   ]
  },
  {
   "cell_type": "code",
   "execution_count": 15,
   "metadata": {},
   "outputs": [],
   "source": [
    "df_items = df_items.drop_duplicates()\n"
   ]
  },
  {
   "cell_type": "code",
   "execution_count": 55,
   "metadata": {},
   "outputs": [],
   "source": [
    "# Se toma la decision de trabajar con el 96% de los datos, para disminuir su tamaño de memoria\n",
    "sample_size = int(0.65 * len(df_items)) \n",
    "df_items = df_items.sample(n=sample_size, random_state=42) "
   ]
  },
  {
   "cell_type": "code",
   "execution_count": 56,
   "metadata": {},
   "outputs": [
    {
     "data": {
      "text/plain": [
       "(3210544, 3)"
      ]
     },
     "execution_count": 56,
     "metadata": {},
     "output_type": "execute_result"
    }
   ],
   "source": [
    "df_items.shape"
   ]
  },
  {
   "cell_type": "code",
   "execution_count": 57,
   "metadata": {},
   "outputs": [
    {
     "name": "stdout",
     "output_type": "stream",
     "text": [
      "<class 'pandas.core.frame.DataFrame'>\n",
      "Index: 3210544 entries, 4559349 to 1794319\n",
      "Data columns (total 3 columns):\n",
      " #   Column            Dtype \n",
      "---  ------            ----- \n",
      " 0   item_id           int64 \n",
      " 1   playtime_forever  int64 \n",
      " 2   user_id           object\n",
      "dtypes: int64(2), object(1)\n",
      "memory usage: 98.0+ MB\n"
     ]
    }
   ],
   "source": [
    "df_items.info()"
   ]
  },
  {
   "cell_type": "markdown",
   "metadata": {},
   "source": [
    "DATA 'australian_user_reviews.json'"
   ]
  },
  {
   "cell_type": "code",
   "execution_count": null,
   "metadata": {},
   "outputs": [],
   "source": [
    "# Se abre el archivo 'australian_user_reviews'\n",
    "data2 = []\n",
    "with open('australian_user_reviews.json',encoding='utf-8') as reviuw:\n",
    "    for linea in reviuw.readlines():\n",
    "        data2.append(ast.literal_eval(linea))"
   ]
  },
  {
   "cell_type": "code",
   "execution_count": null,
   "metadata": {},
   "outputs": [],
   "source": [
    "#Convertimos a Dataframe\n",
    "reviuw = pd.DataFrame(data2)"
   ]
  },
  {
   "cell_type": "code",
   "execution_count": null,
   "metadata": {},
   "outputs": [],
   "source": [
    "# Se checkea como esta compuesto, y se observa que campo 'reviews' esta anidado\n",
    "reviuw.head()"
   ]
  },
  {
   "cell_type": "code",
   "execution_count": null,
   "metadata": {},
   "outputs": [],
   "source": [
    "# Por medio de este For, se puede acceder a los campos dentro del campo reviews y obtener un nuevo Dataframe\n",
    "data_des = []\n",
    "for i, e in reviuw.iterrows():\n",
    "    user_id = e['user_id']\n",
    "    user_url = e['user_url']\n",
    "    for reseñas in e['reviews']:\n",
    "        reseñas['user_id'] = user_id\n",
    "        reseñas['user_url'] = user_url\n",
    "        data_des.append(reseñas)\n",
    "\n",
    "df_reviuw = pd.DataFrame(data_des)"
   ]
  },
  {
   "cell_type": "code",
   "execution_count": null,
   "metadata": {},
   "outputs": [],
   "source": [
    "df_reviuw.head()"
   ]
  },
  {
   "cell_type": "code",
   "execution_count": null,
   "metadata": {},
   "outputs": [],
   "source": [
    "df_reviuw.info()"
   ]
  },
  {
   "cell_type": "code",
   "execution_count": null,
   "metadata": {},
   "outputs": [],
   "source": [
    "# Se crea la funcion sentimiento para  aplicar análisis de sentimiento con NLP \n",
    "# debe tomar el valor '0' si es malo, '1' si es neutral y '2' si es positivo\n",
    "def sentiment(data):\n",
    "    npl = TextBlob(data)\n",
    "    if npl.sentiment.polarity < 0:\n",
    "        return 0\n",
    "    elif npl.sentiment.polarity == 0:\n",
    "        return 1\n",
    "    else:\n",
    "        return 2"
   ]
  },
  {
   "cell_type": "code",
   "execution_count": null,
   "metadata": {},
   "outputs": [],
   "source": [
    "df_reviuw['sentiment_analisy']=df_reviuw['review'].apply(sentiment)"
   ]
  },
  {
   "cell_type": "code",
   "execution_count": null,
   "metadata": {},
   "outputs": [],
   "source": [
    "# Se elimina el campo 'review'\n",
    "df_reviuw = df_reviuw.drop('review', axis=1)"
   ]
  },
  {
   "cell_type": "code",
   "execution_count": null,
   "metadata": {},
   "outputs": [],
   "source": [
    "df_reviuw.head()"
   ]
  },
  {
   "cell_type": "code",
   "execution_count": null,
   "metadata": {},
   "outputs": [],
   "source": [
    "#Se crea una funcion para cambiar el formato del campo posted a formato \"YYYY-MM-DD\"\n",
    "def convertir_fecha(fecha):\n",
    "    match = re.search(r'(\\w+\\s\\d{1,2},\\s\\d{4})', fecha)\n",
    "    if match:\n",
    "        fecha_str = match.group(1)\n",
    "        try:\n",
    "            fecha_dt = pd.to_datetime(fecha_str)\n",
    "            return fecha_dt.strftime('%Y-%m-%d')\n",
    "        except:\n",
    "            return 'Fecha inválida'\n",
    "    else:\n",
    "        return 'Formato inválido'"
   ]
  },
  {
   "cell_type": "code",
   "execution_count": null,
   "metadata": {},
   "outputs": [],
   "source": [
    "#Se crea un nuevo campo 'date'\n",
    "df_reviuw['date'] = df_reviuw['posted'].apply(convertir_fecha)"
   ]
  },
  {
   "cell_type": "code",
   "execution_count": null,
   "metadata": {},
   "outputs": [],
   "source": [
    "#Se Elimina 'posted'\n",
    "df_reviuw = df_reviuw.drop('posted', axis=1)\n"
   ]
  },
  {
   "cell_type": "code",
   "execution_count": null,
   "metadata": {},
   "outputs": [],
   "source": [
    "df_reviuw.head()"
   ]
  },
  {
   "cell_type": "code",
   "execution_count": null,
   "metadata": {},
   "outputs": [],
   "source": [
    "df_reviuw.shape"
   ]
  },
  {
   "cell_type": "code",
   "execution_count": null,
   "metadata": {},
   "outputs": [],
   "source": [
    "df_reviuw.to_csv('reviuws.csv')"
   ]
  }
 ],
 "metadata": {
  "kernelspec": {
   "display_name": "Python 3",
   "language": "python",
   "name": "python3"
  },
  "language_info": {
   "codemirror_mode": {
    "name": "ipython",
    "version": 3
   },
   "file_extension": ".py",
   "mimetype": "text/x-python",
   "name": "python",
   "nbconvert_exporter": "python",
   "pygments_lexer": "ipython3",
   "version": "3.10.11"
  },
  "orig_nbformat": 4
 },
 "nbformat": 4,
 "nbformat_minor": 2
}
